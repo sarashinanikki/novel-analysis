{
 "cells": [
  {
   "cell_type": "code",
   "execution_count": 1,
   "metadata": {},
   "outputs": [
    {
     "data": {
      "text/plain": [
       "Index(['Sentence', 'UserID', 'Datetime', 'Train/Dev/Test', 'Writer_Joy',\n",
       "       'Writer_Sadness', 'Writer_Anticipation', 'Writer_Surprise',\n",
       "       'Writer_Anger', 'Writer_Fear', 'Writer_Disgust', 'Writer_Trust',\n",
       "       'Reader1_Joy', 'Reader1_Sadness', 'Reader1_Anticipation',\n",
       "       'Reader1_Surprise', 'Reader1_Anger', 'Reader1_Fear', 'Reader1_Disgust',\n",
       "       'Reader1_Trust', 'Reader2_Joy', 'Reader2_Sadness',\n",
       "       'Reader2_Anticipation', 'Reader2_Surprise', 'Reader2_Anger',\n",
       "       'Reader2_Fear', 'Reader2_Disgust', 'Reader2_Trust', 'Reader3_Joy',\n",
       "       'Reader3_Sadness', 'Reader3_Anticipation', 'Reader3_Surprise',\n",
       "       'Reader3_Anger', 'Reader3_Fear', 'Reader3_Disgust', 'Reader3_Trust',\n",
       "       'Avg. Readers_Joy', 'Avg. Readers_Sadness', 'Avg. Readers_Anticipation',\n",
       "       'Avg. Readers_Surprise', 'Avg. Readers_Anger', 'Avg. Readers_Fear',\n",
       "       'Avg. Readers_Disgust', 'Avg. Readers_Trust'],\n",
       "      dtype='object')"
      ]
     },
     "execution_count": 1,
     "metadata": {},
     "output_type": "execute_result"
    }
   ],
   "source": [
    "import pandas as pd\n",
    "df_wrime = pd.read_table('./wrime-ver1.tsv')\n",
    "df_wrime.columns"
   ]
  },
  {
   "cell_type": "code",
   "execution_count": 2,
   "metadata": {},
   "outputs": [
    {
     "data": {
      "text/html": [
       "<div>\n",
       "<style scoped>\n",
       "    .dataframe tbody tr th:only-of-type {\n",
       "        vertical-align: middle;\n",
       "    }\n",
       "\n",
       "    .dataframe tbody tr th {\n",
       "        vertical-align: top;\n",
       "    }\n",
       "\n",
       "    .dataframe thead th {\n",
       "        text-align: right;\n",
       "    }\n",
       "</style>\n",
       "<table border=\"1\" class=\"dataframe\">\n",
       "  <thead>\n",
       "    <tr style=\"text-align: right;\">\n",
       "      <th></th>\n",
       "      <th>Sentence</th>\n",
       "      <th>readers_emotion_intensities</th>\n",
       "      <th>Train/Dev/Test</th>\n",
       "    </tr>\n",
       "  </thead>\n",
       "  <tbody>\n",
       "    <tr>\n",
       "      <th>0</th>\n",
       "      <td>ぼけっとしてたらこんな時間｡チャリあるから食べにでたいのに…</td>\n",
       "      <td>[0, 2, 0, 0, 0, 0, 0, 0]</td>\n",
       "      <td>train</td>\n",
       "    </tr>\n",
       "    <tr>\n",
       "      <th>1</th>\n",
       "      <td>今日の月も白くて明るい。昨日より雲が少なくてキレイな? と立ち止まる帰り道｡チャリなし生活も...</td>\n",
       "      <td>[1, 0, 0, 2, 0, 0, 0, 0]</td>\n",
       "      <td>train</td>\n",
       "    </tr>\n",
       "    <tr>\n",
       "      <th>6</th>\n",
       "      <td>やばい｡おもろいな?思ってみてみた「シャレードがいっぱい」｡よすぎるやん。</td>\n",
       "      <td>[2, 0, 0, 0, 0, 0, 0, 0]</td>\n",
       "      <td>train</td>\n",
       "    </tr>\n",
       "    <tr>\n",
       "      <th>7</th>\n",
       "      <td>おなかすいた…夜ご飯仲間募集｡</td>\n",
       "      <td>[0, 0, 2, 0, 0, 0, 0, 0]</td>\n",
       "      <td>train</td>\n",
       "    </tr>\n",
       "    <tr>\n",
       "      <th>9</th>\n",
       "      <td>最近アップにしていたので気づかなかったけど、ちゃんとブローしたらモテキ小宮山夏樹(後期)に似...</td>\n",
       "      <td>[1, 0, 2, 0, 0, 0, 0, 0]</td>\n",
       "      <td>train</td>\n",
       "    </tr>\n",
       "  </tbody>\n",
       "</table>\n",
       "</div>"
      ],
      "text/plain": [
       "                                            Sentence   \n",
       "0                     ぼけっとしてたらこんな時間｡チャリあるから食べにでたいのに…  \\\n",
       "1  今日の月も白くて明るい。昨日より雲が少なくてキレイな? と立ち止まる帰り道｡チャリなし生活も...   \n",
       "6              やばい｡おもろいな?思ってみてみた「シャレードがいっぱい」｡よすぎるやん。   \n",
       "7                                    おなかすいた…夜ご飯仲間募集｡   \n",
       "9  最近アップにしていたので気づかなかったけど、ちゃんとブローしたらモテキ小宮山夏樹(後期)に似...   \n",
       "\n",
       "  readers_emotion_intensities Train/Dev/Test  \n",
       "0    [0, 2, 0, 0, 0, 0, 0, 0]          train  \n",
       "1    [1, 0, 0, 2, 0, 0, 0, 0]          train  \n",
       "6    [2, 0, 0, 0, 0, 0, 0, 0]          train  \n",
       "7    [0, 0, 2, 0, 0, 0, 0, 0]          train  \n",
       "9    [1, 0, 2, 0, 0, 0, 0, 0]          train  "
      ]
     },
     "execution_count": 2,
     "metadata": {},
     "output_type": "execute_result"
    }
   ],
   "source": [
    "emotions = ['Joy', 'Sadness', 'Anticipation', 'Surprise', 'Anger', 'Fear', 'Disgust', 'Trust']\n",
    "df_wrime['readers_emotion_intensities'] = df_wrime.apply(lambda x: [x['Avg. Readers_' + name] for name in emotions], axis=1)\n",
    "\n",
    "# 感情強度が低いサンプルは除外する\n",
    "# (readers_emotion_intensities の max が２以上のサンプルのみを対象とする)\n",
    "is_target = df_wrime['readers_emotion_intensities'].map(lambda x: max(x) >= 2)\n",
    "\"\"\"\n",
    "df_wrime.groupby(['Avg. Readers_Joy', 'Avg. Readers_Sadness', 'Avg. Readers_Anticipation',\n",
    "       'Avg. Readers_Surprise', 'Avg. Readers_Anger', 'Avg. Readers_Fear',\n",
    "       'Avg. Readers_Disgust', 'Avg. Readers_Trust']).size().plot(kind='bar')\n",
    "\"\"\"\n",
    "df_wrime = df_wrime[is_target]\n",
    "df_wrime_target = df_wrime[['Sentence', 'readers_emotion_intensities', 'Train/Dev/Test']]\n",
    "df_wrime_target.head()"
   ]
  },
  {
   "cell_type": "code",
   "execution_count": 3,
   "metadata": {},
   "outputs": [
    {
     "name": "stdout",
     "output_type": "stream",
     "text": [
      "train:  17104\n",
      "test:  720\n"
     ]
    }
   ],
   "source": [
    "df_groups = df_wrime_target.groupby('Train/Dev/Test')\n",
    "df_train = df_groups.get_group('train')\n",
    "df_test = pd.concat([df_groups.get_group('test')])\n",
    "\n",
    "print('train: ', len(df_train))\n",
    "print('test: ', len(df_test))"
   ]
  },
  {
   "cell_type": "code",
   "execution_count": 4,
   "metadata": {},
   "outputs": [
    {
     "name": "stdout",
     "output_type": "stream",
     "text": [
      "True\n",
      "tensor([[0.1328, 0.3178, 0.5760],\n",
      "        [0.7766, 0.5770, 0.4023],\n",
      "        [0.7457, 0.1531, 0.6228],\n",
      "        [0.3067, 0.8738, 0.1249],\n",
      "        [0.3778, 0.8704, 0.7670]])\n"
     ]
    }
   ],
   "source": [
    "import torch\n",
    "print(torch.cuda.is_available())\n",
    "x = torch.rand(5,3)\n",
    "print(x)"
   ]
  },
  {
   "cell_type": "code",
   "execution_count": 5,
   "metadata": {},
   "outputs": [
    {
     "name": "stderr",
     "output_type": "stream",
     "text": [
      "/home/sarashin/.local/share/virtualenvs/wrime-fd-hj1sF/lib/python3.10/site-packages/tqdm/auto.py:21: TqdmWarning: IProgress not found. Please update jupyter and ipywidgets. See https://ipywidgets.readthedocs.io/en/stable/user_install.html\n",
      "  from .autonotebook import tqdm as notebook_tqdm\n",
      "Some weights of the model checkpoint at cl-tohoku/bert-base-japanese-whole-word-masking were not used when initializing BertForSequenceClassification: ['cls.seq_relationship.weight', 'cls.predictions.transform.LayerNorm.bias', 'cls.predictions.bias', 'cls.predictions.transform.dense.bias', 'cls.predictions.transform.dense.weight', 'cls.predictions.transform.LayerNorm.weight', 'cls.seq_relationship.bias', 'cls.predictions.decoder.weight']\n",
      "- This IS expected if you are initializing BertForSequenceClassification from the checkpoint of a model trained on another task or with another architecture (e.g. initializing a BertForSequenceClassification model from a BertForPreTraining model).\n",
      "- This IS NOT expected if you are initializing BertForSequenceClassification from the checkpoint of a model that you expect to be exactly identical (initializing a BertForSequenceClassification model from a BertForSequenceClassification model).\n",
      "Some weights of BertForSequenceClassification were not initialized from the model checkpoint at cl-tohoku/bert-base-japanese-whole-word-masking and are newly initialized: ['classifier.bias', 'classifier.weight']\n",
      "You should probably TRAIN this model on a down-stream task to be able to use it for predictions and inference.\n"
     ]
    }
   ],
   "source": [
    "from transformers import AutoTokenizer, AutoModelForSequenceClassification\n",
    "\n",
    "checkpoint = 'cl-tohoku/bert-base-japanese-whole-word-masking'\n",
    "tokenizer = AutoTokenizer.from_pretrained(checkpoint)\n",
    "device = \"cuda:0\"\n",
    "model = AutoModelForSequenceClassification.from_pretrained(checkpoint, num_labels=8)\n",
    "model = model.to(device)\n"
   ]
  },
  {
   "cell_type": "code",
   "execution_count": 6,
   "metadata": {},
   "outputs": [
    {
     "name": "stderr",
     "output_type": "stream",
     "text": [
      "                                                                   \r"
     ]
    }
   ],
   "source": [
    "from datasets import Dataset\n",
    "import numpy as np\n",
    "\n",
    "target_columns = ['Sentence', 'readers_emotion_intensities']\n",
    "train_dataset = Dataset.from_pandas(df_train[target_columns])\n",
    "test_dataset = Dataset.from_pandas(df_train[target_columns])\n",
    "\n",
    "def tokenize_function(batch):\n",
    "    \"\"\"Tokenizerを適用 （感情強度の正規化も同時に実施する）.\"\"\"\n",
    "    tokenized_batch = tokenizer(batch['Sentence'], truncation=True, padding='max_length')\n",
    "    tokenized_batch['labels'] = [x / np.sum(x) for x in batch['readers_emotion_intensities']]  # 総和=1に正規化\n",
    "    return tokenized_batch\n",
    "\n",
    "train_tokenized_dataset = train_dataset.map(tokenize_function, batched=True)\n",
    "test_tokenized_dataset = test_dataset.map(tokenize_function, batched=True)"
   ]
  },
  {
   "cell_type": "code",
   "execution_count": 7,
   "metadata": {},
   "outputs": [
    {
     "name": "stderr",
     "output_type": "stream",
     "text": [
      "/home/sarashin/.local/share/virtualenvs/wrime-fd-hj1sF/lib/python3.10/site-packages/transformers/optimization.py:391: FutureWarning: This implementation of AdamW is deprecated and will be removed in a future version. Use the PyTorch implementation torch.optim.AdamW instead, or set `no_deprecation_warning=True` to disable this warning\n",
      "  warnings.warn(\n",
      "                                                  \n",
      "  9%|▉         | 200/2138 [05:34<11:46,  2.75it/s] "
     ]
    },
    {
     "name": "stdout",
     "output_type": "stream",
     "text": [
      "{'eval_loss': 0.2832302153110504, 'eval_accuracy': 0.5470650140318054, 'eval_runtime': 261.4463, 'eval_samples_per_second': 65.421, 'eval_steps_per_second': 8.178, 'epoch': 0.09}\n"
     ]
    },
    {
     "name": "stderr",
     "output_type": "stream",
     "text": [
      "                                                     \n",
      " 19%|█▊        | 400/2138 [11:08<10:31,  2.75it/s] "
     ]
    },
    {
     "name": "stdout",
     "output_type": "stream",
     "text": [
      "{'eval_loss': 0.26060956716537476, 'eval_accuracy': 0.6219597754911131, 'eval_runtime': 261.222, 'eval_samples_per_second': 65.477, 'eval_steps_per_second': 8.185, 'epoch': 0.19}\n"
     ]
    },
    {
     "name": "stderr",
     "output_type": "stream",
     "text": [
      " 23%|██▎       | 500/2138 [11:44<09:55,  2.75it/s]   "
     ]
    },
    {
     "name": "stdout",
     "output_type": "stream",
     "text": [
      "{'loss': 0.2957, 'learning_rate': 3.8306828811973814e-05, 'epoch': 0.23}\n"
     ]
    },
    {
     "name": "stderr",
     "output_type": "stream",
     "text": [
      "                                                  \n",
      " 28%|██▊       | 600/2138 [16:37<09:20,  2.75it/s] "
     ]
    },
    {
     "name": "stdout",
     "output_type": "stream",
     "text": [
      "{'eval_loss': 0.25242412090301514, 'eval_accuracy': 0.6315481758652947, 'eval_runtime': 254.8108, 'eval_samples_per_second': 67.124, 'eval_steps_per_second': 8.391, 'epoch': 0.28}\n"
     ]
    },
    {
     "name": "stderr",
     "output_type": "stream",
     "text": [
      "                                                     \n",
      " 37%|███▋      | 800/2138 [22:00<07:45,  2.87it/s] "
     ]
    },
    {
     "name": "stdout",
     "output_type": "stream",
     "text": [
      "{'eval_loss': 0.2443469613790512, 'eval_accuracy': 0.6664522918615529, 'eval_runtime': 252.7188, 'eval_samples_per_second': 67.68, 'eval_steps_per_second': 8.46, 'epoch': 0.37}\n"
     ]
    },
    {
     "name": "stderr",
     "output_type": "stream",
     "text": [
      " 47%|████▋     | 1000/2138 [23:13<06:53,  2.75it/s]  "
     ]
    },
    {
     "name": "stdout",
     "output_type": "stream",
     "text": [
      "{'loss': 0.2625, 'learning_rate': 2.6613657623947615e-05, 'epoch': 0.47}\n"
     ]
    },
    {
     "name": "stderr",
     "output_type": "stream",
     "text": [
      "                                                   \n",
      " 47%|████▋     | 1000/2138 [27:34<06:53,  2.75it/s]"
     ]
    },
    {
     "name": "stdout",
     "output_type": "stream",
     "text": [
      "{'eval_loss': 0.23596523702144623, 'eval_accuracy': 0.677677736202058, 'eval_runtime': 261.4195, 'eval_samples_per_second': 65.427, 'eval_steps_per_second': 8.178, 'epoch': 0.47}\n"
     ]
    },
    {
     "name": "stderr",
     "output_type": "stream",
     "text": [
      "                                                      \n",
      " 56%|█████▌    | 1200/2138 [33:04<05:41,  2.75it/s]"
     ]
    },
    {
     "name": "stdout",
     "output_type": "stream",
     "text": [
      "{'eval_loss': 0.22709457576274872, 'eval_accuracy': 0.7060336763330215, 'eval_runtime': 255.4288, 'eval_samples_per_second': 66.962, 'eval_steps_per_second': 8.37, 'epoch': 0.56}\n"
     ]
    },
    {
     "name": "stderr",
     "output_type": "stream",
     "text": [
      "                                                      \n",
      " 65%|██████▌   | 1400/2138 [38:23<04:15,  2.89it/s]"
     ]
    },
    {
     "name": "stdout",
     "output_type": "stream",
     "text": [
      "{'eval_loss': 0.22253134846687317, 'eval_accuracy': 0.7329279700654817, 'eval_runtime': 249.6084, 'eval_samples_per_second': 68.523, 'eval_steps_per_second': 8.565, 'epoch': 0.65}\n"
     ]
    },
    {
     "name": "stderr",
     "output_type": "stream",
     "text": [
      " 70%|███████   | 1500/2138 [38:58<03:42,  2.86it/s]   "
     ]
    },
    {
     "name": "stdout",
     "output_type": "stream",
     "text": [
      "{'loss': 0.2489, 'learning_rate': 1.492048643592142e-05, 'epoch': 0.7}\n"
     ]
    },
    {
     "name": "stderr",
     "output_type": "stream",
     "text": [
      "                                                   \n",
      " 75%|███████▍  | 1600/2138 [43:58<03:06,  2.88it/s]"
     ]
    },
    {
     "name": "stdout",
     "output_type": "stream",
     "text": [
      "{'eval_loss': 0.2181844413280487, 'eval_accuracy': 0.7369036482694107, 'eval_runtime': 264.5705, 'eval_samples_per_second': 64.648, 'eval_steps_per_second': 8.081, 'epoch': 0.75}\n"
     ]
    },
    {
     "name": "stderr",
     "output_type": "stream",
     "text": [
      "                                                      \n",
      " 84%|████████▍ | 1800/2138 [49:42<02:05,  2.68it/s]"
     ]
    },
    {
     "name": "stdout",
     "output_type": "stream",
     "text": [
      "{'eval_loss': 0.21252626180648804, 'eval_accuracy': 0.7572497661365762, 'eval_runtime': 269.4719, 'eval_samples_per_second': 63.472, 'eval_steps_per_second': 7.934, 'epoch': 0.84}\n"
     ]
    },
    {
     "name": "stderr",
     "output_type": "stream",
     "text": [
      " 94%|█████████▎| 2000/2138 [50:57<00:51,  2.69it/s]  "
     ]
    },
    {
     "name": "stdout",
     "output_type": "stream",
     "text": [
      "{'loss': 0.2397, 'learning_rate': 3.2273152478952295e-06, 'epoch': 0.94}\n"
     ]
    },
    {
     "name": "stderr",
     "output_type": "stream",
     "text": [
      "                                                   \n",
      " 94%|█████████▎| 2000/2138 [55:25<00:51,  2.69it/s]"
     ]
    },
    {
     "name": "stdout",
     "output_type": "stream",
     "text": [
      "{'eval_loss': 0.2095615118741989, 'eval_accuracy': 0.7585360149672591, 'eval_runtime': 267.8084, 'eval_samples_per_second': 63.867, 'eval_steps_per_second': 7.983, 'epoch': 0.94}\n"
     ]
    },
    {
     "name": "stderr",
     "output_type": "stream",
     "text": [
      "100%|██████████| 2138/2138 [56:17<00:00,  1.58s/it]  "
     ]
    },
    {
     "name": "stdout",
     "output_type": "stream",
     "text": [
      "{'train_runtime': 3377.0459, 'train_samples_per_second': 5.065, 'train_steps_per_second': 0.633, 'train_loss': 0.260342506073255, 'epoch': 1.0}\n"
     ]
    },
    {
     "name": "stderr",
     "output_type": "stream",
     "text": [
      "\n"
     ]
    },
    {
     "data": {
      "text/plain": [
       "TrainOutput(global_step=2138, training_loss=0.260342506073255, metrics={'train_runtime': 3377.0459, 'train_samples_per_second': 5.065, 'train_steps_per_second': 0.633, 'train_loss': 0.260342506073255, 'epoch': 1.0})"
      ]
     },
     "execution_count": 7,
     "metadata": {},
     "output_type": "execute_result"
    }
   ],
   "source": [
    "from transformers import TrainingArguments, Trainer\n",
    "import evaluate\n",
    "\n",
    "# 評価指標を定義\n",
    "# https://huggingface.co/docs/transformers/training\n",
    "metric = evaluate.load(\"accuracy\")\n",
    "def compute_metrics(eval_pred):\n",
    "    logits, labels = eval_pred\n",
    "    predictions = np.argmax(logits, axis=-1)\n",
    "    label_ids = np.argmax(labels, axis=-1)\n",
    "    return metric.compute(predictions=predictions, references=label_ids)\n",
    "\n",
    "# 訓練時の設定\n",
    "# https://huggingface.co/docs/transformers/v4.21.1/en/main_classes/trainer#transformers.TrainingArguments\n",
    "training_args = TrainingArguments(\n",
    "    output_dir=\"test_trainer\",\n",
    "    per_device_train_batch_size=8,\n",
    "    num_train_epochs=1.0,\n",
    "    evaluation_strategy=\"steps\", eval_steps=200)  # 200ステップ毎にテストデータで評価する\n",
    "\n",
    "# Trainerを生成\n",
    "trainer = Trainer(\n",
    "    model=model,\n",
    "    args=training_args,\n",
    "    train_dataset=train_tokenized_dataset,\n",
    "    eval_dataset=test_tokenized_dataset,\n",
    "    compute_metrics=compute_metrics,\n",
    ")\n",
    "\n",
    "# 訓練を実行\n",
    "trainer.train()"
   ]
  },
  {
   "cell_type": "code",
   "execution_count": 14,
   "metadata": {},
   "outputs": [
    {
     "data": {
      "text/plain": [
       "<Figure size 500x100 with 0 Axes>"
      ]
     },
     "metadata": {},
     "output_type": "display_data"
    },
    {
     "data": {
      "image/png": "[encoded data removed]",
      "text/plain": [
       "<Figure size 800x300 with 1 Axes>"
      ]
     },
     "metadata": {},
     "output_type": "display_data"
    }
   ],
   "source": [
    "import matplotlib.pyplot as plt\n",
    "import japanize_matplotlib\n",
    "import seaborn as sns\n",
    "\n",
    "# 動作確認\n",
    "plt.figure(figsize=(5,1))\n",
    "\n",
    "emotion_names_jp = ['喜び', '悲しみ', '期待', '驚き', '怒り', '恐れ', '嫌悪', '信頼'] \n",
    "\n",
    "# ソフトマックス関数\n",
    "# https://www.delftstack.com/ja/howto/numpy/numpy-softmax/\n",
    "def np_softmax(x):\n",
    "    f_x = np.exp(x) / np.sum(np.exp(x))\n",
    "    return f_x\n",
    "\n",
    "def analyze_emotion(text, show_fig=False):\n",
    "    # 推論モードを有効化\n",
    "    model.eval()\n",
    "\n",
    "    # 入力データ変換 + 推論\n",
    "    tokens = tokenizer(text, truncation=True, return_tensors=\"pt\")\n",
    "    tokens.to(model.device)\n",
    "    preds = model(**tokens)\n",
    "    prob = np_softmax(preds.logits.cpu().detach().numpy()[0])\n",
    "    out_dict = {n: p for n, p in zip(emotion_names_jp, prob)}\n",
    "\n",
    "    # 棒グラフを描画\n",
    "    if show_fig:\n",
    "        plt.figure(figsize=(8, 3))\n",
    "        df = pd.DataFrame(out_dict.items(), columns=['name', 'prob'])\n",
    "        sns.barplot(x='name', y='prob', data=df)\n",
    "        plt.title('入力文 : ' + text, fontsize=15)\n",
    "    else:\n",
    "        print(out_dict)\n",
    "\n",
    "analyze_emotion('今日から長期休暇だぁーーー！！！', True)"
   ]
  },
  {
   "cell_type": "code",
   "execution_count": 15,
   "metadata": {},
   "outputs": [],
   "source": [
    "model_path = 'epoch_1.pth'\n",
    "torch.save(model.state_dict(), model_path)"
   ]
  }
 ],
 "metadata": {
  "kernelspec": {
   "display_name": "wrime-fd-hj1sF",
   "language": "python",
   "name": "python3"
  },
  "language_info": {
   "codemirror_mode": {
    "name": "ipython",
    "version": 3
   },
   "file_extension": ".py",
   "mimetype": "text/x-python",
   "name": "python",
   "nbconvert_exporter": "python",
   "pygments_lexer": "ipython3",
   "version": "3.10.10"
  },
  "orig_nbformat": 4
 },
 "nbformat": 4,
 "nbformat_minor": 2
}
